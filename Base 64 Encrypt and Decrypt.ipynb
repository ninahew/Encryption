{
 "cells": [
  {
   "cell_type": "code",
   "execution_count": 3,
   "metadata": {},
   "outputs": [],
   "source": [
    "message = 'Hello, my name is Nina'\n",
    "base_64_values = 'ABCDEFGHIJKLMNOPQRSTUVWXYZabcdefghijklmnopqrstuvwxyz0123456789+/'"
   ]
  },
  {
   "cell_type": "markdown",
   "metadata": {},
   "source": [
    "hey boobs\n"
   ]
  },
  {
   "cell_type": "code",
   "execution_count": 4,
   "metadata": {},
   "outputs": [],
   "source": [
    "import re"
   ]
  },
  {
   "cell_type": "code",
   "execution_count": 5,
   "metadata": {},
   "outputs": [],
   "source": [
    "def split_into_sixes(string):\n",
    "    list_sextets = []\n",
    "    while len(string) > 0:\n",
    "        new_sextet = string[:6]\n",
    "        list_sextets.append(new_sextet)\n",
    "        string = string[6:]\n",
    "    while len(list_sextets[-1]) < 6:\n",
    "        list_sextets[-1] = list_sextets[-1] + '0'\n",
    "    return list_sextets\n",
    "\n",
    "def encrypt(message):\n",
    "    octets = [ord(letter) for letter in message]\n",
    "    binary_8bits = [format(octet,'08b') for octet in octets]\n",
    "    bit_string = ''.join(binary_8bits)\n",
    "    binary_6bits = split_into_sixes(bit_string)\n",
    "    list_of_sextets = [int(six_bits, 2) for six_bits in binary_6bits]\n",
    "    encrypted_message = [base_64_values[sextet] for sextet in list_of_sextets]\n",
    "    while len(encrypted_message) % 4 != 0:\n",
    "        encrypted_message.append('=')\n",
    "    final_encrypted_message = ''.join(encrypted_message)\n",
    "    return final_encrypted_message\n",
    "    "
   ]
  },
  {
   "cell_type": "code",
   "execution_count": 6,
   "metadata": {},
   "outputs": [
    {
     "data": {
      "text/plain": [
       "'SGVsbG8sIG15IG5hbWUgaXMgTmluYQ=='"
      ]
     },
     "execution_count": 6,
     "metadata": {},
     "output_type": "execute_result"
    }
   ],
   "source": [
    "encrypt(message)"
   ]
  },
  {
   "cell_type": "code",
   "execution_count": 7,
   "metadata": {},
   "outputs": [],
   "source": [
    "message = 'SGVsbG8sIG15IG5hbWUgaXMgTmluYQ=='"
   ]
  },
  {
   "cell_type": "code",
   "execution_count": 8,
   "metadata": {},
   "outputs": [],
   "source": [
    "def split_into_eights(string):\n",
    "    list_octets = []\n",
    "    while len(string) >= 8:\n",
    "        new_octet = string[:8]\n",
    "        list_octets.append(new_octet)\n",
    "        string = string[8:]\n",
    "    return list_octets\n",
    "    \n",
    "\n",
    "def decrypt(message): \n",
    "    new_message = message.replace('=','')\n",
    "    try:\n",
    "        list_of_sextets = [base_64_values.index(character) for character in new_message]\n",
    "    except:\n",
    "        raise ValueError(\"Cannot decrypt unecrypted message!\")\n",
    "    binary_6bits = [format(number,'06b') for number in list_of_sextets]\n",
    "    string_binary = ''.join(binary_6bits)\n",
    "    split_into_eights(string_binary)\n",
    "    list_of_numbers = [int(number, 2) for number in split_into_eights(string_binary)]\n",
    "    list_characters = [chr(number) for number in list_of_numbers]\n",
    "    decrypted_message = ''.join(list_characters)\n",
    "    return decrypted_message\n",
    "\n"
   ]
  },
  {
   "cell_type": "code",
   "execution_count": 9,
   "metadata": {},
   "outputs": [
    {
     "data": {
      "text/plain": [
       "'Hello, my name is Nina'"
      ]
     },
     "execution_count": 9,
     "metadata": {},
     "output_type": "execute_result"
    }
   ],
   "source": [
    "decrypt(message)"
   ]
  },
  {
   "cell_type": "code",
   "execution_count": 10,
   "metadata": {},
   "outputs": [
    {
     "data": {
      "text/plain": [
       "True"
      ]
     },
     "execution_count": 10,
     "metadata": {},
     "output_type": "execute_result"
    }
   ],
   "source": [
    "message == decrypt(encrypt(message))"
   ]
  },
  {
   "cell_type": "code",
   "execution_count": 11,
   "metadata": {},
   "outputs": [
    {
     "ename": "ValueError",
     "evalue": "Cannot decrypt unecrypted message!",
     "output_type": "error",
     "traceback": [
      "\u001b[0;31m---------------------------------------------------------------------------\u001b[0m",
      "\u001b[0;31mValueError\u001b[0m                                Traceback (most recent call last)",
      "\u001b[0;32m<ipython-input-8-f7d9d2fe4b14>\u001b[0m in \u001b[0;36mdecrypt\u001b[0;34m(message)\u001b[0m\n\u001b[1;32m     12\u001b[0m     \u001b[0;32mtry\u001b[0m\u001b[0;34m:\u001b[0m\u001b[0;34m\u001b[0m\u001b[0;34m\u001b[0m\u001b[0m\n\u001b[0;32m---> 13\u001b[0;31m         \u001b[0mlist_of_sextets\u001b[0m \u001b[0;34m=\u001b[0m \u001b[0;34m[\u001b[0m\u001b[0mbase_64_values\u001b[0m\u001b[0;34m.\u001b[0m\u001b[0mindex\u001b[0m\u001b[0;34m(\u001b[0m\u001b[0mcharacter\u001b[0m\u001b[0;34m)\u001b[0m \u001b[0;32mfor\u001b[0m \u001b[0mcharacter\u001b[0m \u001b[0;32min\u001b[0m \u001b[0mnew_message\u001b[0m\u001b[0;34m]\u001b[0m\u001b[0;34m\u001b[0m\u001b[0;34m\u001b[0m\u001b[0m\n\u001b[0m\u001b[1;32m     14\u001b[0m     \u001b[0;32mexcept\u001b[0m\u001b[0;34m:\u001b[0m\u001b[0;34m\u001b[0m\u001b[0;34m\u001b[0m\u001b[0m\n",
      "\u001b[0;32m<ipython-input-8-f7d9d2fe4b14>\u001b[0m in \u001b[0;36m<listcomp>\u001b[0;34m(.0)\u001b[0m\n\u001b[1;32m     12\u001b[0m     \u001b[0;32mtry\u001b[0m\u001b[0;34m:\u001b[0m\u001b[0;34m\u001b[0m\u001b[0;34m\u001b[0m\u001b[0m\n\u001b[0;32m---> 13\u001b[0;31m         \u001b[0mlist_of_sextets\u001b[0m \u001b[0;34m=\u001b[0m \u001b[0;34m[\u001b[0m\u001b[0mbase_64_values\u001b[0m\u001b[0;34m.\u001b[0m\u001b[0mindex\u001b[0m\u001b[0;34m(\u001b[0m\u001b[0mcharacter\u001b[0m\u001b[0;34m)\u001b[0m \u001b[0;32mfor\u001b[0m \u001b[0mcharacter\u001b[0m \u001b[0;32min\u001b[0m \u001b[0mnew_message\u001b[0m\u001b[0;34m]\u001b[0m\u001b[0;34m\u001b[0m\u001b[0;34m\u001b[0m\u001b[0m\n\u001b[0m\u001b[1;32m     14\u001b[0m     \u001b[0;32mexcept\u001b[0m\u001b[0;34m:\u001b[0m\u001b[0;34m\u001b[0m\u001b[0;34m\u001b[0m\u001b[0m\n",
      "\u001b[0;31mValueError\u001b[0m: substring not found",
      "\nDuring handling of the above exception, another exception occurred:\n",
      "\u001b[0;31mValueError\u001b[0m                                Traceback (most recent call last)",
      "\u001b[0;32m<ipython-input-11-82b75b8b01dd>\u001b[0m in \u001b[0;36m<module>\u001b[0;34m()\u001b[0m\n\u001b[0;32m----> 1\u001b[0;31m \u001b[0mdecrypt\u001b[0m\u001b[0;34m(\u001b[0m\u001b[0;34m'nina_hewings@hotmail.co.uk'\u001b[0m\u001b[0;34m)\u001b[0m\u001b[0;34m\u001b[0m\u001b[0;34m\u001b[0m\u001b[0m\n\u001b[0m",
      "\u001b[0;32m<ipython-input-8-f7d9d2fe4b14>\u001b[0m in \u001b[0;36mdecrypt\u001b[0;34m(message)\u001b[0m\n\u001b[1;32m     13\u001b[0m         \u001b[0mlist_of_sextets\u001b[0m \u001b[0;34m=\u001b[0m \u001b[0;34m[\u001b[0m\u001b[0mbase_64_values\u001b[0m\u001b[0;34m.\u001b[0m\u001b[0mindex\u001b[0m\u001b[0;34m(\u001b[0m\u001b[0mcharacter\u001b[0m\u001b[0;34m)\u001b[0m \u001b[0;32mfor\u001b[0m \u001b[0mcharacter\u001b[0m \u001b[0;32min\u001b[0m \u001b[0mnew_message\u001b[0m\u001b[0;34m]\u001b[0m\u001b[0;34m\u001b[0m\u001b[0;34m\u001b[0m\u001b[0m\n\u001b[1;32m     14\u001b[0m     \u001b[0;32mexcept\u001b[0m\u001b[0;34m:\u001b[0m\u001b[0;34m\u001b[0m\u001b[0;34m\u001b[0m\u001b[0m\n\u001b[0;32m---> 15\u001b[0;31m         \u001b[0;32mraise\u001b[0m \u001b[0mValueError\u001b[0m\u001b[0;34m(\u001b[0m\u001b[0;34m\"Cannot decrypt unecrypted message!\"\u001b[0m\u001b[0;34m)\u001b[0m\u001b[0;34m\u001b[0m\u001b[0;34m\u001b[0m\u001b[0m\n\u001b[0m\u001b[1;32m     16\u001b[0m     \u001b[0mbinary_6bits\u001b[0m \u001b[0;34m=\u001b[0m \u001b[0;34m[\u001b[0m\u001b[0mformat\u001b[0m\u001b[0;34m(\u001b[0m\u001b[0mnumber\u001b[0m\u001b[0;34m,\u001b[0m\u001b[0;34m'06b'\u001b[0m\u001b[0;34m)\u001b[0m \u001b[0;32mfor\u001b[0m \u001b[0mnumber\u001b[0m \u001b[0;32min\u001b[0m \u001b[0mlist_of_sextets\u001b[0m\u001b[0;34m]\u001b[0m\u001b[0;34m\u001b[0m\u001b[0;34m\u001b[0m\u001b[0m\n\u001b[1;32m     17\u001b[0m     \u001b[0mstring_binary\u001b[0m \u001b[0;34m=\u001b[0m \u001b[0;34m''\u001b[0m\u001b[0;34m.\u001b[0m\u001b[0mjoin\u001b[0m\u001b[0;34m(\u001b[0m\u001b[0mbinary_6bits\u001b[0m\u001b[0;34m)\u001b[0m\u001b[0;34m\u001b[0m\u001b[0;34m\u001b[0m\u001b[0m\n",
      "\u001b[0;31mValueError\u001b[0m: Cannot decrypt unecrypted message!"
     ]
    }
   ],
   "source": [
    "decrypt('nina_hewings@hotmail.co.uk')"
   ]
  },
  {
   "cell_type": "code",
   "execution_count": 16,
   "metadata": {},
   "outputs": [
    {
     "name": "stdout",
     "output_type": "stream",
     "text": [
      "Please enter 'encrypt' or 'decrypt' to determine mode\n",
      "hello\n",
      "Please enter either 'encrypt' or 'decrypt'\n",
      "ok\n",
      "Please enter either 'encrypt' or 'decrypt'\n",
      "decrypt\n",
      "Please enter your message to be decrypted\n",
      "aGVsbG8=%\n",
      "Cannot decrypt unencrypted message\n"
     ]
    }
   ],
   "source": [
    "def main():\n",
    "    print('Please enter \\'encrypt\\' or \\'decrypt\\' to determine mode')\n",
    "    mode = input()\n",
    "    while mode != 'encrypt' and mode != 'decrypt':\n",
    "        print('Please enter either \\'encrypt\\' or \\'decrypt\\'')\n",
    "        mode = input()\n",
    "    if mode == 'encrypt':\n",
    "        print('Please enter your message to be encrypted')\n",
    "        message = input()\n",
    "        print(encrypt(message))\n",
    "    else:\n",
    "        print('Please enter your message to be decrypted')\n",
    "        message = input()\n",
    "        try:\n",
    "            print(decrypt(message))\n",
    "        except:\n",
    "            print(\"Cannot decrypt unencrypted message\")\n",
    "            exit()\n",
    "\n",
    "main()"
   ]
  },
  {
   "cell_type": "code",
   "execution_count": null,
   "metadata": {},
   "outputs": [],
   "source": []
  },
  {
   "cell_type": "code",
   "execution_count": null,
   "metadata": {},
   "outputs": [],
   "source": []
  },
  {
   "cell_type": "code",
   "execution_count": null,
   "metadata": {},
   "outputs": [],
   "source": []
  }
 ],
 "metadata": {
  "kernelspec": {
   "display_name": "Python 3",
   "language": "python",
   "name": "python3"
  },
  "language_info": {
   "codemirror_mode": {
    "name": "ipython",
    "version": 3
   },
   "file_extension": ".py",
   "mimetype": "text/x-python",
   "name": "python",
   "nbconvert_exporter": "python",
   "pygments_lexer": "ipython3",
   "version": "3.6.8"
  }
 },
 "nbformat": 4,
 "nbformat_minor": 2
}
