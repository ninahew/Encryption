{
 "cells": [
  {
   "cell_type": "code",
   "execution_count": 92,
   "metadata": {},
   "outputs": [],
   "source": [
    "message = 'The earliest instances of this type of encoding were created for dial up communication between systems running the same '\n",
    "base_64_values = 'ABCDEFGHIJKLMNOPQRSTUVWXYZabcdefghijklmnopqrstuvwxyz0123456789+/'"
   ]
  },
  {
   "cell_type": "code",
   "execution_count": 93,
   "metadata": {},
   "outputs": [],
   "source": [
    "import re"
   ]
  },
  {
   "cell_type": "code",
   "execution_count": 94,
   "metadata": {},
   "outputs": [],
   "source": [
    "def split_into_sixes(string):\n",
    "    list_sextets = []\n",
    "    while len(string) > 0:\n",
    "        new_sextet = string[:6]\n",
    "        list_sextets.append(new_sextet)\n",
    "        string = string[6:]\n",
    "    while len(list_sextets[-1]) < 6:\n",
    "        list_sextets[-1] = list_sextets[-1] + '0'\n",
    "    return list_sextets\n",
    "\n",
    "def encrypt(message):\n",
    "    octets = [ord(letter) for letter in message]\n",
    "    binary_8bits = [format(octet,'08b') for octet in octets]\n",
    "    bit_string = ''.join(binary_8bits)\n",
    "    binary_6bits = split_into_sixes(bit_string)\n",
    "    list_of_sextets = [int(six_bits, 2) for six_bits in binary_6bits]\n",
    "    encrypted_message = [base_64_values[sextet] for sextet in list_of_sextets]\n",
    "    while len(encrypted_message) % 4 != 0:\n",
    "        encrypted_message.append('=')\n",
    "    final_encrypted_message = ''.join(encrypted_message)\n",
    "    return final_encrypted_message\n",
    "    "
   ]
  },
  {
   "cell_type": "code",
   "execution_count": 95,
   "metadata": {},
   "outputs": [
    {
     "data": {
      "text/plain": [
       "'VGhlIGVhcmxpZXN0IGluc3RhbmNlcyBvZiB0aGlzIHR5cGUgb2YgZW5jb2Rpbmcgd2VyZSBjcmVhdGVkIGZvciBkaWFsIHVwIGNvbW11bmljYXRpb24gYmV0d2VlbiBzeXN0ZW1zIHJ1bm5pbmcgdGhlIHNhbWUg'"
      ]
     },
     "execution_count": 95,
     "metadata": {},
     "output_type": "execute_result"
    }
   ],
   "source": [
    "encrypt(message)"
   ]
  },
  {
   "cell_type": "code",
   "execution_count": null,
   "metadata": {},
   "outputs": [],
   "source": []
  },
  {
   "cell_type": "code",
   "execution_count": 104,
   "metadata": {},
   "outputs": [
    {
     "ename": "NameError",
     "evalue": "name 'decrypt' is not defined",
     "output_type": "error",
     "traceback": [
      "\u001b[0;31m---------------------------------------------------------------------------\u001b[0m",
      "\u001b[0;31mNameError\u001b[0m                                 Traceback (most recent call last)",
      "\u001b[0;32m<ipython-input-104-bcaa662297c3>\u001b[0m in \u001b[0;36m<module>\u001b[0;34m()\u001b[0m\n\u001b[1;32m      4\u001b[0m \u001b[0;34m\u001b[0m\u001b[0m\n\u001b[1;32m      5\u001b[0m \u001b[0mtest_message\u001b[0m \u001b[0;34m=\u001b[0m \u001b[0;34m''\u001b[0m\u001b[0;34m.\u001b[0m\u001b[0mjoin\u001b[0m\u001b[0;34m(\u001b[0m\u001b[0;34m[\u001b[0m\u001b[0mrandom\u001b[0m\u001b[0;34m.\u001b[0m\u001b[0mchoice\u001b[0m\u001b[0;34m(\u001b[0m\u001b[0mstring\u001b[0m\u001b[0;34m.\u001b[0m\u001b[0mascii_letters\u001b[0m\u001b[0;34m)\u001b[0m \u001b[0;32mfor\u001b[0m \u001b[0m_\u001b[0m \u001b[0;32min\u001b[0m \u001b[0mrange\u001b[0m\u001b[0;34m(\u001b[0m\u001b[0;36m1000\u001b[0m\u001b[0;34m)\u001b[0m\u001b[0;34m]\u001b[0m\u001b[0;34m)\u001b[0m\u001b[0;34m\u001b[0m\u001b[0;34m\u001b[0m\u001b[0m\n\u001b[0;32m----> 6\u001b[0;31m \u001b[0;32massert\u001b[0m\u001b[0;34m(\u001b[0m\u001b[0mdecrypt\u001b[0m\u001b[0;34m(\u001b[0m\u001b[0mencrypt\u001b[0m\u001b[0;34m(\u001b[0m\u001b[0mtest_message\u001b[0m\u001b[0;34m)\u001b[0m\u001b[0;34m)\u001b[0m \u001b[0;34m==\u001b[0m \u001b[0mtest_message\u001b[0m\u001b[0;34m)\u001b[0m\u001b[0;34m\u001b[0m\u001b[0;34m\u001b[0m\u001b[0m\n\u001b[0m",
      "\u001b[0;31mNameError\u001b[0m: name 'decrypt' is not defined"
     ]
    }
   ],
   "source": [
    "import base64\n",
    "import string\n",
    "import random\n",
    "\n",
    "test_message = ''.join([random.choice(string.ascii_letters) for _ in range(1000)])\n",
    "assert(decrypt(encrypt(test_message)) == test_message)"
   ]
  },
  {
   "cell_type": "code",
   "execution_count": null,
   "metadata": {},
   "outputs": [],
   "source": []
  }
 ],
 "metadata": {
  "kernelspec": {
   "display_name": "Python 3",
   "language": "python",
   "name": "python3"
  },
  "language_info": {
   "codemirror_mode": {
    "name": "ipython",
    "version": 3
   },
   "file_extension": ".py",
   "mimetype": "text/x-python",
   "name": "python",
   "nbconvert_exporter": "python",
   "pygments_lexer": "ipython3",
   "version": "3.6.8"
  }
 },
 "nbformat": 4,
 "nbformat_minor": 2
}
